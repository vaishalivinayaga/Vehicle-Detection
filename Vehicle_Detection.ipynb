{
  "nbformat": 4,
  "nbformat_minor": 0,
  "metadata": {
    "colab": {
      "provenance": [],
      "authorship_tag": "ABX9TyN1cxVgHzKGrDPmWBv07wRp",
      "include_colab_link": true
    },
    "kernelspec": {
      "name": "python3",
      "display_name": "Python 3"
    },
    "language_info": {
      "name": "python"
    }
  },
  "cells": [
    {
      "cell_type": "markdown",
      "metadata": {
        "id": "view-in-github",
        "colab_type": "text"
      },
      "source": [
        "<a href=\"https://colab.research.google.com/github/vaishalivinayaga/Vehicle-Detection/blob/main/Vehicle_Detection.ipynb\" target=\"_parent\"><img src=\"https://colab.research.google.com/assets/colab-badge.svg\" alt=\"Open In Colab\"/></a>"
      ]
    },
    {
      "cell_type": "code",
      "execution_count": null,
      "metadata": {
        "id": "rvBDY3_kLVjU"
      },
      "outputs": [],
      "source": [
        "import cv2\n",
        "import time\n",
        "import numpy as np\n",
        "bike_classifier = cv2.CascadeClassifier('bike_haarcascade.xml')\n",
        "car_classifier = cv2.CascadeClassifier('car_haarcascade_1.xml’)\u000bbus_classifier = cv2.CascadeClassifier('bus_harrcascade.xml’)\u000bcap = cv2.VideoCapture(r\"C:\\Users\\Sindhu\\Desktop\\SRM\\Sem-5\\CV\\cars_sample_video.mp4\")"
      ]
    },
    {
      "cell_type": "code",
      "source": [
        "# Looping after video is successfully loadedwhile cap.isOpened():        time.sleep(.05)    # Read first frame\n",
        "    ret, frame = cap.read()\n",
        "    gray = cv2.cvtColor(frame, cv2.COLOR_BGR2GRAY)"
      ],
      "metadata": {
        "id": "BwfqB6xtLkZ1"
      },
      "execution_count": null,
      "outputs": []
    },
    {
      "cell_type": "code",
      "source": [
        "# Pass frame to our car classifier\n",
        "cars = car_classifier.detectMultiScale(gray, 1.1, 9)\n",
        "bikes = bike_classifier.detectMultiScale(gray, 1.1, 9)\n",
        "bus = bus_classifier.detectMultiScale(gray, 1.1, 9)\n",
        "# Extract bounding boxes for any bodies identified\n",
        "for (x,y,w,h) in cars:\n",
        "  cv2.rectangle(frame, (x, y), (x+w, y+h), (0, 255, 255), 2)             \n",
        "  cv2.imshow('Cars', frame)"
      ],
      "metadata": {
        "id": "A5TSwNyXLu8t"
      },
      "execution_count": null,
      "outputs": []
    },
    {
      "cell_type": "code",
      "source": [
        "for (x,y,w,h) in bikes:\n",
        "        cv2.rectangle(frame, (x, y), (x+w, y+h), (0, 255, 255), 2)        cv2.imshow('Bikes', frame)\n",
        "for (x,y,w,h) in bus:"
      ],
      "metadata": {
        "id": "rwuXP5PELx-r"
      },
      "execution_count": null,
      "outputs": []
    },
    {
      "cell_type": "code",
      "source": [
        "cv2.rectangle(frame, (x, y), (x+w, y+h), (0, 255, 255), 2)        \n",
        "cv2.imshow('Bus', frame)  \n",
        "if cv2.waitKey(1) ==13: #13 is the Enter Key\n",
        " break\n",
        "      cap.release()cv2.destroyAllWindows()"
      ],
      "metadata": {
        "id": "qlf3REwAL0pw"
      },
      "execution_count": null,
      "outputs": []
    }
  ]
}